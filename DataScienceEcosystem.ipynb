{
 "cells": [
  {
   "cell_type": "markdown",
   "id": "f25a597e",
   "metadata": {},
   "source": [
    "# Data Science Tools and Ecosystem"
   ]
  },
  {
   "cell_type": "markdown",
   "id": "e41c9c4e",
   "metadata": {},
   "source": [
    "In this notebook, Data Science Tools and Ecosystem are summarized."
   ]
  },
  {
   "cell_type": "markdown",
   "id": "f77ae80d",
   "metadata": {},
   "source": [
    "**Objectives:**\n",
    "- List popular languages for Data Science.\n",
    "- Create a git repo and add remove items, merge branches.\n",
    "- understand working with R and R studio.\n",
    "- understand and work with popular data science liberaries."
   ]
  },
  {
   "cell_type": "markdown",
   "id": "3e7a90a9",
   "metadata": {},
   "source": [
    "Some of the popular languages that Data Scientists use are:\n",
    "1. Python\n",
    "4. R\n",
    "3. Julia\n",
    "4. Scala"
   ]
  },
  {
   "cell_type": "markdown",
   "id": "09a341ee",
   "metadata": {},
   "source": [
    "Some of the commonly used libraries used by Data Scientists include:\n",
    "1. NumPy\n",
    "2. Pandas\n",
    "3. SciPy\n",
    "4. Matplotlib\n",
    "5. Seaborn"
   ]
  },
  {
   "cell_type": "markdown",
   "id": "33b5a304",
   "metadata": {},
   "source": [
    "| Data Science Tools       |\n",
    "|--------------------------|\n",
    "| Jupyter Notebook         |\n",
    "| RStudio                  |\n",
    "| Visual Studio Code       |\n"
   ]
  },
  {
   "cell_type": "markdown",
   "id": "87ca25e0",
   "metadata": {},
   "source": [
    "### Below are a few examples of evaluating arithmetic expressions in Python"
   ]
  },
  {
   "cell_type": "code",
   "execution_count": 4,
   "id": "e1ca48a1",
   "metadata": {},
   "outputs": [
    {
     "data": {
      "text/plain": [
       "17"
      ]
     },
     "execution_count": 4,
     "metadata": {},
     "output_type": "execute_result"
    }
   ],
   "source": [
    "# This a simple arithmetic expression to mutiply then add integers\n",
    "(3*4)+5"
   ]
  },
  {
   "cell_type": "code",
   "execution_count": 1,
   "id": "910db561",
   "metadata": {},
   "outputs": [
    {
     "data": {
      "text/plain": [
       "3.3333333333333335"
      ]
     },
     "execution_count": 1,
     "metadata": {},
     "output_type": "execute_result"
    }
   ],
   "source": [
    "# This will convert 200 minutes to hours by diving by 60\n",
    "200/60"
   ]
  },
  {
   "cell_type": "markdown",
   "id": "70c3b0a8",
   "metadata": {},
   "source": [
    "## Author\n",
    "Vaibhav Nigam"
   ]
  }
 ],
 "metadata": {
  "kernelspec": {
   "display_name": "Python 3",
   "language": "python",
   "name": "python3"
  },
  "language_info": {
   "codemirror_mode": {
    "name": "ipython",
    "version": 3
   },
   "file_extension": ".py",
   "mimetype": "text/x-python",
   "name": "python",
   "nbconvert_exporter": "python",
   "pygments_lexer": "ipython3",
   "version": "3.13.3"
  }
 },
 "nbformat": 4,
 "nbformat_minor": 5
}
